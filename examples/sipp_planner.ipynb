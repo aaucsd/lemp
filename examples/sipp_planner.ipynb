{
 "cells": [
  {
   "cell_type": "code",
   "execution_count": 1,
   "metadata": {},
   "outputs": [
    {
     "name": "stdout",
     "output_type": "stream",
     "text": [
      "/Users/ruipeng/Desktop/lemp\n"
     ]
    }
   ],
   "source": [
    "cd .."
   ]
  },
  {
   "cell_type": "code",
   "execution_count": 2,
   "metadata": {
    "collapsed": false,
    "jupyter": {
     "outputs_hidden": false
    },
    "pycharm": {
     "name": "#%%\n"
    }
   },
   "outputs": [
    {
     "name": "stderr",
     "output_type": "stream",
     "text": [
      "pybullet build time: Mar 16 2022 13:26:26\n"
     ]
    }
   ],
   "source": [
    "from environment.dynamic.simple2arm_env import Simple2ArmEnv\n",
    "from objects.dynamic_object import DynamicObject\n",
    "from robot.abstract_robot import DynamicRobotFactory\n",
    "from objects.trajectory import WaypointLinearTrajectory\n",
    "from robot.simple2arm_robot import Simple2ArmRobot\n",
    "from planner.sipp_planner import SippPlanner\n",
    "\n",
    "import numpy as np\n",
    "# visualize environment\n",
    "%matplotlib inline\n",
    "import matplotlib.pyplot as plt\n",
    "from utils.utils import seed_everything"
   ]
  },
  {
   "cell_type": "code",
   "execution_count": 3,
   "metadata": {
    "collapsed": false,
    "jupyter": {
     "outputs_hidden": false
    },
    "pycharm": {
     "name": "#%%\n"
    }
   },
   "outputs": [],
   "source": [
    "waypoints = np.linspace(0, np.pi/4, 20).tolist()\n",
    "waypoints = [np.array([p,p]) for p in waypoints]\n",
    "traj = WaypointLinearTrajectory(waypoints=waypoints)\n",
    "robot = Simple2ArmRobot(base_position=(1, 1, 0), base_orientation=(0, 0, 0, 1))\n",
    "objs = DynamicObject(item=robot, trajectory=traj)\n",
    "\n",
    "env = Simple2ArmEnv(objects=[objs])\n",
    "num_samples = 1000"
   ]
  },
  {
   "cell_type": "code",
   "execution_count": 4,
   "metadata": {
    "collapsed": false,
    "jupyter": {
     "outputs_hidden": false
    },
    "pycharm": {
     "name": "#%%\n"
    }
   },
   "outputs": [
    {
     "name": "stdout",
     "output_type": "stream",
     "text": [
      "loading dynamic object\n",
      "Loading robot from ../data/robot/simple2arm/2dof.urdf\n",
      "Robot loaded with item_id 0\n",
      "Loading robot from ../data/robot/simple2arm/2dof.urdf\n",
      "Robot loaded with item_id 1\n"
     ]
    },
    {
     "data": {
      "image/png": "[encoded data removed]",
      "text/plain": [
       "<Figure size 432x288 with 1 Axes>"
      ]
     },
     "metadata": {
      "needs_background": "light"
     },
     "output_type": "display_data"
    }
   ],
   "source": [
    "env.load()\n",
    "plt.imshow(env.render())\n",
    "plt.show()"
   ]
  },
  {
   "cell_type": "code",
   "execution_count": 5,
   "metadata": {
    "collapsed": false,
    "jupyter": {
     "outputs_hidden": false
    },
    "pycharm": {
     "name": "#%%\n"
    }
   },
   "outputs": [
    {
     "name": "stderr",
     "output_type": "stream",
     "text": [
      "/Users/ruipeng/Desktop/lemp/planner/sipp_planner.py:30: UserWarning: Creating a tensor from a list of numpy.ndarrays is extremely slow. Please consider converting the list to a single numpy.ndarray with numpy.array() before converting to a tensor. (Triggered internally at  /Users/distiller/project/pytorch/torch/csrc/utils/tensor_new.cpp:210.)\n",
      "  edge_index = knn_graph(torch.FloatTensor(self.points), k=50, loop=True)\n"
     ]
    },
    {
     "name": "stdout",
     "output_type": "stream",
     "text": [
      "success\n"
     ]
    }
   ],
   "source": [
    "# sample a non-trival problem setting and solve\n",
    "while True:\n",
    "    start, goal = env.robot.sample_random_init_goal()\n",
    "    seed_everything(42)\n",
    "    initial_planner = SippPlanner(num_samples=num_samples, stop_when_success=True)\n",
    "    result = initial_planner.plan(env, start, goal, timeout=('time', 1000))\n",
    "    if result.solution:\n",
    "        print('success')\n",
    "        break"
   ]
  },
  {
   "cell_type": "code",
   "execution_count": 6,
   "metadata": {
    "collapsed": false,
    "jupyter": {
     "outputs_hidden": false
    },
    "pycharm": {
     "name": "#%%\n"
    }
   },
   "outputs": [
    {
     "data": {
      "text/plain": [
       "{'solution': [array([0.48497504, 2.80282681]),\n",
       "  array([0.53174037, 2.77867961]),\n",
       "  array([0.57850569, 2.75453241]),\n",
       "  array([0.62527102, 2.7303852 ]),\n",
       "  array([0.67203635, 2.706238  ]),\n",
       "  array([0.71880167, 2.6820908 ]),\n",
       "  array([0.765567 , 2.6579436]),\n",
       "  array([0.79966575, 2.64033676]),\n",
       "  array([0.82569753, 2.59459367]),\n",
       "  array([0.8517293 , 2.54885059]),\n",
       "  array([0.87776107, 2.5031075 ]),\n",
       "  array([0.90379284, 2.45736442]),\n",
       "  array([0.9276966 , 2.41536068]),\n",
       "  array([0.96476774, 2.37800009]),\n",
       "  array([1.00183888, 2.3406395 ]),\n",
       "  array([1.03891002, 2.30327891]),\n",
       "  array([1.07598115, 2.26591832]),\n",
       "  array([1.11305229, 2.22855772]),\n",
       "  array([1.15012343, 2.19119713]),\n",
       "  array([1.18719457, 2.15383654]),\n",
       "  array([1.20678567, 2.13409247]),\n",
       "  array([1.24578419, 2.09874846]),\n",
       "  array([1.28478271, 2.06340446]),\n",
       "  array([1.32378123, 2.02806046]),\n",
       "  array([1.36277975, 1.99271645]),\n",
       "  array([1.40177827, 1.95737245]),\n",
       "  array([1.44077679, 1.92202845]),\n",
       "  array([1.47977531, 1.88668445]),\n",
       "  array([1.50904185, 1.86016044]),\n",
       "  array([1.55436193, 1.83339902]),\n",
       "  array([1.599682  , 1.80663759]),\n",
       "  array([1.64500208, 1.77987617]),\n",
       "  array([1.69032215, 1.75311474]),\n",
       "  array([1.73564223, 1.72635331]),\n",
       "  array([1.7809623 , 1.69959189]),\n",
       "  array([1.82174124, 1.675512  ]),\n",
       "  array([1.86377112, 1.64383279]),\n",
       "  array([1.90580101, 1.61215359]),\n",
       "  array([1.94783089, 1.58047439]),\n",
       "  array([1.98986078, 1.54879518]),\n",
       "  array([2.03189066, 1.51711598]),\n",
       "  array([2.07392055, 1.48543678]),\n",
       "  array([2.07807753, 1.48230353])],\n",
       " 'running_time': 50.956861051,\n",
       " 'num_collision_check': 1742133,\n",
       " 'num_node': None}"
      ]
     },
     "execution_count": 6,
     "metadata": {},
     "output_type": "execute_result"
    }
   ],
   "source": [
    "result"
   ]
  },
  {
   "cell_type": "code",
   "execution_count": null,
   "outputs": [],
   "source": [
    "# Visualization\n",
    "from time import sleep\n",
    "def visualize_traj(env, traj_agent):\n",
    "    max_len_traj = 0\n",
    "    for obj in env.objects:\n",
    "        max_len_traj = max(max_len_traj, len(obj.trajectory.waypoints))\n",
    "                           \n",
    "    max_time_obs = max_len_traj-1\n",
    "    speed = 1 / max_time_obs\n",
    "    gifs = []\n",
    "    max_len = max(len(traj_agent.waypoints), max_len_traj)\n",
    "\n",
    "    for timestep in np.linspace(0,  max_len-1, 100):\n",
    "        env.robot.set_config(traj_agent.get_spec(timestep))\n",
    "        for obj in env.objects:\n",
    "            obj.set_config_at_time(timestep)\n",
    "        p.performCollisionDetection()\n",
    "        sleep(0.1)\n",
    "        gifs.append(p.getCameraImage(width=360, height=360, lightDirection=[1, 1, 1], shadow=1,\n",
    "                                                 renderer=p.ER_BULLET_HARDWARE_OPENGL)[2])\n",
    "    return gifs"
   ],
   "metadata": {
    "collapsed": false,
    "pycharm": {
     "name": "#%%\n"
    }
   }
  },
  {
   "cell_type": "code",
   "execution_count": null,
   "outputs": [],
   "source": [],
   "metadata": {
    "collapsed": false,
    "pycharm": {
     "name": "#%%\n"
    }
   }
  },
  {
   "cell_type": "code",
   "execution_count": null,
   "outputs": [],
   "source": [
    "%matplotlib inline\n",
    "import matplotlib.pyplot as plt\n",
    "import pybullet as p\n",
    "import pybullet_data\n",
    "import numpy as np\n",
    "from utils.utils import save_gif\n",
    "from IPython.display import HTML\n",
    "import base64\n",
    "from objects.trajectory import WaypointLinearTrajectory\n",
    "\n",
    "env.load(GUI=True)\n",
    "\n",
    "traj_agent = WaypointLinearTrajectory(result.solution)\n",
    "gifs = visualize_traj(env, traj_agent)\n",
    "save_gif(gifs, f'data/visualization/sipp.gif')\n",
    "b64 = base64.b64encode(open(f'data/visualization/sipp.gif', 'rb').read()).decode('ascii')\n",
    "display(HTML(f'<img src=\"data:image/gif;base64,{b64}\" />'))"
   ],
   "metadata": {
    "collapsed": false,
    "pycharm": {
     "name": "#%%\n"
    }
   }
  },
  {
   "cell_type": "code",
   "execution_count": null,
   "outputs": [],
   "source": [],
   "metadata": {
    "collapsed": false,
    "pycharm": {
     "name": "#%%\n"
    }
   }
  },
  {
   "cell_type": "code",
   "execution_count": null,
   "metadata": {},
   "outputs": [],
   "source": []
  }
 ],
 "metadata": {
  "kernelspec": {
   "display_name": "PyCharm (GNN-Dynamic)",
   "language": "python",
   "name": "pycharm-e8cae0ef"
  },
  "language_info": {
   "codemirror_mode": {
    "name": "ipython",
    "version": 3
   },
   "file_extension": ".py",
   "mimetype": "text/x-python",
   "name": "python",
   "nbconvert_exporter": "python",
   "pygments_lexer": "ipython3",
   "version": "3.9.7"
  }
 },
 "nbformat": 4,
 "nbformat_minor": 4
}