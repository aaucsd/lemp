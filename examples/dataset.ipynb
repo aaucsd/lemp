{
 "cells": [
  {
   "cell_type": "markdown",
   "metadata": {},
   "source": [
    "# Save Dataset"
   ]
  },
  {
   "cell_type": "code",
   "execution_count": 1,
   "metadata": {},
   "outputs": [
    {
     "name": "stdout",
     "output_type": "stream",
     "text": [
      "/Users/rainorangelemon/Documents/lemp\n"
     ]
    }
   ],
   "source": [
    "%cd .."
   ]
  },
  {
   "cell_type": "code",
   "execution_count": 80,
   "metadata": {},
   "outputs": [],
   "source": [
    "import pickle\n",
    "import yaml\n",
    "import numpy as np\n",
    "\n",
    "with open('examples/local_dataset/kukas_14_3000.pkl', 'rb') as dataset_pkl:\n",
    "    dataset_pkl = pickle.load(dataset_pkl)\n",
    "    \n",
    "def create_obstacles(obstacles):\n",
    "    results = list()\n",
    "    for obstacle in obstacles:\n",
    "        half_extents, base_position = obstacle\n",
    "        half_extents = np.array(half_extents, dtype=float)\n",
    "        base_position = np.array(base_position, dtype=float)\n",
    "        results.append(dict(type='objects.static.voxel.VoxelObject', base_position=base_position.tolist(), base_orientation=[0, 0, 0, 1], half_extents=half_extents.tolist()))\n",
    "    return results    "
   ]
  },
  {
   "cell_type": "code",
   "execution_count": 82,
   "metadata": {},
   "outputs": [],
   "source": [
    "for dataset_id, dataset_pkl_single in enumerate(dataset_pkl):\n",
    "    obstacles, start, goal, _ = dataset_pkl_single\n",
    "    data = dict(\n",
    "        env = dict(\n",
    "            type='environment.static.dual_kuka_env.DualKukaEnv',\n",
    "            objects=create_obstacles(obstacles),\n",
    "        ),\n",
    "        start = start.tolist(),\n",
    "        goal = goal.tolist(),\n",
    "    )\n",
    "    with open(f'examples/yaml_dataset/dual_kuka_env/{dataset_id}.yml', 'w') as outfile:\n",
    "        yaml.dump(data, outfile, default_flow_style=False)"
   ]
  },
  {
   "cell_type": "markdown",
   "metadata": {},
   "source": [
    "# Load Dataset"
   ]
  },
  {
   "cell_type": "code",
   "execution_count": 2,
   "metadata": {},
   "outputs": [
    {
     "data": {
      "text/plain": [
       "{'env': <environment.static.kuka_env.KukaEnv at 0x7fcca08d61c0>,\n",
       " 'goal': [-2.4960075431650717,\n",
       "  1.5804393943886041,\n",
       "  2.1973516391522065,\n",
       "  -1.384007178096446,\n",
       "  0.4527427516448097,\n",
       "  -1.7979475452279727,\n",
       "  0.3704138040057825],\n",
       " 'start': [-0.9352826132785665,\n",
       "  -0.7305479996952184,\n",
       "  2.624557411260555,\n",
       "  -1.6143298711245935,\n",
       "  0.32104548951760137,\n",
       "  1.048964063182944,\n",
       "  2.714942851309156]}"
      ]
     },
     "execution_count": 2,
     "metadata": {},
     "output_type": "execute_result"
    }
   ],
   "source": [
    "from data.dataset import create_data_from_yaml\n",
    "create_data_from_yaml('data/static/kuka_env/0.yml')"
   ]
  }
 ],
 "metadata": {
  "kernelspec": {
   "display_name": "pybullet",
   "language": "python",
   "name": "pybullet"
  },
  "language_info": {
   "codemirror_mode": {
    "name": "ipython",
    "version": 3
   },
   "file_extension": ".py",
   "mimetype": "text/x-python",
   "name": "python",
   "nbconvert_exporter": "python",
   "pygments_lexer": "ipython3",
   "version": "3.8.3"
  }
 },
 "nbformat": 4,
 "nbformat_minor": 4
}
