{
 "cells": [
  {
   "cell_type": "code",
   "execution_count": 80,
   "metadata": {},
   "outputs": [],
   "source": [
    "import pickle\n",
    "import yaml\n",
    "\n",
    "with open('examples/local_dataset/kukas_14_3000.pkl', 'rb') as dataset_pkl:\n",
    "    dataset_pkl = pickle.load(dataset_pkl)"
   ]
  },
  {
   "cell_type": "code",
   "execution_count": 82,
   "metadata": {},
   "outputs": [],
   "source": [
    "for dataset_id, dataset_pkl_single in enumerate(dataset_pkl):\n",
    "    obstacles, start, goal, _ = dataset_pkl_single\n",
    "    data = dict(\n",
    "        env = dict(\n",
    "            type='environment.static.dual_kuka_env.DualKukaEnv',\n",
    "            objects=create_obstacles(obstacles),\n",
    "        ),\n",
    "        start = start.tolist(),\n",
    "        goal = goal.tolist(),\n",
    "    )\n",
    "    with open(f'examples/yaml_dataset/dual_kuka_env/{dataset_id}.yml', 'w') as outfile:\n",
    "        yaml.dump(data, outfile, default_flow_style=False)"
   ]
  },
  {
   "cell_type": "code",
   "execution_count": 77,
   "metadata": {},
   "outputs": [],
   "source": [
    "import numpy as np\n",
    "\n",
    "def create_obstacles(obstacles):\n",
    "    results = list()\n",
    "    for obstacle in obstacles:\n",
    "        half_extents, base_position = obstacle\n",
    "        half_extents = np.array(half_extents, dtype=float)\n",
    "        base_position = np.array(base_position, dtype=float)\n",
    "        results.append(dict(type='objects.static.voxel.VoxelObject', base_position=base_position.tolist(), base_orientation=[0, 0, 0, 1], half_extents=half_extents.tolist()))\n",
    "    return results"
   ]
  },
  {
   "cell_type": "code",
   "execution_count": 57,
   "metadata": {},
   "outputs": [
    {
     "data": {
      "text/plain": [
       "{'env': {'objects': [{'base_orientation': [0, 0, 0, 1],\n",
       "    'base_position': array([0.13234945, 0.5370334 , 1.28483987]),\n",
       "    'half_extents': array([0.15325019, 0.27989368, 0.2900635 ]),\n",
       "    'type': 'objects.static.voxel.VoxelObject'},\n",
       "   {'base_orientation': [0, 0, 0, 1],\n",
       "    'base_position': array([0.37446225, 0.20557526, 0.78469967]),\n",
       "    'half_extents': array([0.26657168, 0.15228706, 0.15286907]),\n",
       "    'type': 'objects.static.voxel.VoxelObject'},\n",
       "   {'base_orientation': [0, 0, 0, 1],\n",
       "    'base_position': array([0.98621011, 0.56918972, 0.92731419]),\n",
       "    'half_extents': array([0.10209673, 0.27236515, 0.29887692]),\n",
       "    'type': 'objects.static.voxel.VoxelObject'},\n",
       "   {'base_orientation': [0, 0, 0, 1],\n",
       "    'base_position': array([0.43295489, 0.1685374 , 1.22977583]),\n",
       "    'half_extents': array([0.28591501, 0.12223825, 0.29346668]),\n",
       "    'type': 'objects.static.voxel.VoxelObject'},\n",
       "   {'base_orientation': [0, 0, 0, 1],\n",
       "    'base_position': array([ 0.73655559, -0.80480118,  0.74545233]),\n",
       "    'half_extents': array([0.23763054, 0.26589284, 0.2703785 ]),\n",
       "    'type': 'objects.static.voxel.VoxelObject'},\n",
       "   {'base_orientation': [0, 0, 0, 1],\n",
       "    'base_position': array([-0.40153613, -0.50054733,  1.21793969]),\n",
       "    'half_extents': array([0.18643384, 0.20413371, 0.19019946]),\n",
       "    'type': 'objects.static.voxel.VoxelObject'},\n",
       "   {'base_orientation': [0, 0, 0, 1],\n",
       "    'base_position': array([ 0.56872861, -0.52922463,  0.75572454]),\n",
       "    'half_extents': array([0.11626325, 0.15414781, 0.12876366]),\n",
       "    'type': 'objects.static.voxel.VoxelObject'},\n",
       "   {'base_orientation': [0, 0, 0, 1],\n",
       "    'base_position': array([-0.42671805, -0.08762007,  0.81167869]),\n",
       "    'half_extents': array([0.21890256, 0.13823139, 0.29555487]),\n",
       "    'type': 'objects.static.voxel.VoxelObject'},\n",
       "   {'base_orientation': [0, 0, 0, 1],\n",
       "    'base_position': array([-0.95226859,  0.15550009,  1.0757365 ]),\n",
       "    'half_extents': array([0.19944028, 0.18915949, 0.17576701]),\n",
       "    'type': 'objects.static.voxel.VoxelObject'}],\n",
       "  'type': 'environment.static.kuka_env.KukaEnv'},\n",
       " 'goal': array([-2.49600754,  1.58043939,  2.19735164, -1.38400718,  0.45274275,\n",
       "        -1.79794755,  0.3704138 ]),\n",
       " 'start': array([-0.93528261, -0.730548  ,  2.62455741, -1.61432987,  0.32104549,\n",
       "         1.04896406,  2.71494285])}"
      ]
     },
     "execution_count": 57,
     "metadata": {},
     "output_type": "execute_result"
    }
   ],
   "source": [
    "with open('examples/static/kuka_env/0.yml', 'r') as outfile:\n",
    "    data = yaml.load(outfile, Loader=yaml.Loader)\n",
    "data"
   ]
  },
  {
   "cell_type": "code",
   "execution_count": 54,
   "metadata": {},
   "outputs": [],
   "source": [
    "from pydoc import locate\n",
    "\n",
    "def create_data(data_from_yaml):\n",
    "    if isinstance(data_from_yaml, dict):\n",
    "        for k, v in data_from_yaml.items():\n",
    "            data_from_yaml[k] = create_data(data_from_yaml[k])\n",
    "        if 'type' in data_from_yaml.keys():\n",
    "                Class = locate(data_from_yaml['type'])\n",
    "                del data_from_yaml['type']\n",
    "                return Class(**data_from_yaml)\n",
    "    if isinstance(data_from_yaml, list):\n",
    "        for idx in range(len(data_from_yaml)):\n",
    "            data_from_yaml[idx] = create_data(data_from_yaml[idx])\n",
    "    return data_from_yaml"
   ]
  },
  {
   "cell_type": "code",
   "execution_count": 58,
   "metadata": {},
   "outputs": [
    {
     "data": {
      "text/plain": [
       "{'env': <environment.static.kuka_env.KukaEnv at 0x7fb6f8c8dbe0>,\n",
       " 'goal': array([-2.49600754,  1.58043939,  2.19735164, -1.38400718,  0.45274275,\n",
       "        -1.79794755,  0.3704138 ]),\n",
       " 'start': array([-0.93528261, -0.730548  ,  2.62455741, -1.61432987,  0.32104549,\n",
       "         1.04896406,  2.71494285])}"
      ]
     },
     "execution_count": 58,
     "metadata": {},
     "output_type": "execute_result"
    }
   ],
   "source": [
    "create_data(data)"
   ]
  }
 ],
 "metadata": {
  "kernelspec": {
   "display_name": "pybullet",
   "language": "python",
   "name": "pybullet"
  },
  "language_info": {
   "codemirror_mode": {
    "name": "ipython",
    "version": 3
   },
   "file_extension": ".py",
   "mimetype": "text/x-python",
   "name": "python",
   "nbconvert_exporter": "python",
   "pygments_lexer": "ipython3",
   "version": "3.8.3"
  }
 },
 "nbformat": 4,
 "nbformat_minor": 4
}
