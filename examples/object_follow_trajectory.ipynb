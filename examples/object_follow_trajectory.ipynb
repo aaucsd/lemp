{
 "cells": [
  {
   "cell_type": "markdown",
   "metadata": {},
   "source": [
    "> We will see a cube moving on the screen"
   ]
  },
  {
   "cell_type": "code",
   "execution_count": 1,
   "metadata": {},
   "outputs": [],
   "source": [
    "import os \n",
    "import sys\n",
    "import inspect\n",
    "currentdir = os.path.dirname(os.path.abspath(inspect.getfile(inspect.currentframe())))\n",
    "parentdir = os.path.dirname(currentdir)\n",
    "sys.path.insert(0, parentdir)"
   ]
  },
  {
   "cell_type": "code",
   "execution_count": 2,
   "metadata": {},
   "outputs": [],
   "source": [
    "from objects.static.voxel import VoxelObject\n",
    "from objects.dynamic_object import MovableObjectFactory, DynamicObjectFactory, MovableBaseObject\n",
    "from objects.trajectory import WaypointLinearTrajectory\n",
    "MovableVoxel = MovableObjectFactory.create_movable_object_class(VoxelObject, MovableBaseObject)\n",
    "DynamicVoxel = DynamicObjectFactory.create_dynamic_object_class(MovableVoxel)"
   ]
  },
  {
   "cell_type": "code",
   "execution_count": 3,
   "metadata": {},
   "outputs": [],
   "source": [
    "import numpy as np\n",
    "dynamic_voxel = DynamicVoxel(base_position=[1, 1, 1],\n",
    "                             base_orientation=[0, 0, 0, 1],\n",
    "                             half_extents=[0.5, 0.5, 0.5],\n",
    "                             move_mode='p',\n",
    "                             trajectory=WaypointLinearTrajectory(waypoints=np.random.uniform(size=(3, 3))))"
   ]
  },
  {
   "cell_type": "code",
   "execution_count": 4,
   "metadata": {},
   "outputs": [],
   "source": [
    "from time import sleep\n",
    "def create_traj(dynamic_object, distance):    \n",
    "    p.resetSimulation()\n",
    "    p.setAdditionalSearchPath(pybullet_data.getDataPath())\n",
    "    plane = p.createCollisionShape(p.GEOM_PLANE)\n",
    "    p.createMultiBody(0, plane)    \n",
    "    p.configureDebugVisualizer(p.COV_ENABLE_GUI, 0, lightPosition = [0, 0, 0.1])\n",
    "    p.resetDebugVisualizerCamera(\n",
    "        cameraDistance=distance,\n",
    "        cameraYaw=10,\n",
    "        cameraPitch=-45,\n",
    "        cameraTargetPosition=[0, 0, 0])    \n",
    "    dynamic_object.load()\n",
    "    for timestep in np.linspace(0, len(dynamic_object.trajectory.waypoints)-1, 100):\n",
    "        dynamic_object.set_config_at_time(timestep)\n",
    "        p.performCollisionDetection()\n",
    "        sleep(0.1)"
   ]
  },
  {
   "cell_type": "code",
   "execution_count": 5,
   "metadata": {},
   "outputs": [],
   "source": [
    "%matplotlib inline\n",
    "import matplotlib.pyplot as plt\n",
    "import pybullet as p\n",
    "import pybullet_data\n",
    "import numpy as np\n",
    "p.connect(p.GUI)\n",
    "plt.clf()\n",
    "plt.close('all')\n",
    "create_traj(dynamic_voxel, 2)\n",
    "p.disconnect()    "
   ]
  }
 ],
 "metadata": {
  "kernelspec": {
   "display_name": "pybullet",
   "language": "python",
   "name": "pybullet"
  },
  "language_info": {
   "codemirror_mode": {
    "name": "ipython",
    "version": 3
   },
   "file_extension": ".py",
   "mimetype": "text/x-python",
   "name": "python",
   "nbconvert_exporter": "python",
   "pygments_lexer": "ipython3",
   "version": "3.8.3"
  }
 },
 "nbformat": 4,
 "nbformat_minor": 4
}
