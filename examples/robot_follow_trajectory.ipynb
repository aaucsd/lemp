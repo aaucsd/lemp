{
 "cells": [
  {
   "cell_type": "code",
   "execution_count": 1,
   "metadata": {},
   "outputs": [],
   "source": [
    "import os \n",
    "import sys\n",
    "import inspect\n",
    "currentdir = os.path.dirname(os.path.abspath(inspect.getfile(inspect.currentframe())))\n",
    "parentdir = os.path.dirname(currentdir)\n",
    "sys.path.insert(0, parentdir)"
   ]
  },
  {
   "cell_type": "code",
   "execution_count": 2,
   "metadata": {},
   "outputs": [],
   "source": [
    "from robot.kuka_robot import KukaRobot\n",
    "from robot.extend_kuka_robot import ExtendKukaRobot\n",
    "from robot.snake_robot import SnakeRobot\n",
    "from robot.ur5_robot import UR5Robot\n",
    "from robot.abstract_robot import DynamicRobotFactory\n",
    "from objects.trajectory import WaypointLinearTrajectory"
   ]
  },
  {
   "cell_type": "code",
   "execution_count": 3,
   "metadata": {},
   "outputs": [],
   "source": [
    "from time import sleep\n",
    "def create_traj(robot, distance):    \n",
    "    p.resetSimulation()\n",
    "    p.setAdditionalSearchPath(pybullet_data.getDataPath())\n",
    "    plane = p.createCollisionShape(p.GEOM_PLANE)\n",
    "    p.createMultiBody(0, plane)    \n",
    "    p.configureDebugVisualizer(p.COV_ENABLE_GUI, 0, lightPosition = [0, 0, 0.1])\n",
    "    p.resetDebugVisualizerCamera(\n",
    "        cameraDistance=distance,\n",
    "        cameraYaw=10,\n",
    "        cameraPitch=-45,\n",
    "        cameraTargetPosition=[0, 0, 0])    \n",
    "    robot.load()\n",
    "    for timestep in np.linspace(0, len(robot.trajectory.waypoints)-1, 100):\n",
    "        robot.set_config_at_time(timestep)\n",
    "        p.performCollisionDetection()\n",
    "        sleep(0.1)"
   ]
  },
  {
   "cell_type": "code",
   "execution_count": 4,
   "metadata": {},
   "outputs": [],
   "source": [
    "%matplotlib inline\n",
    "import matplotlib.pyplot as plt\n",
    "import pybullet as p\n",
    "import pybullet_data\n",
    "import numpy as np\n",
    "p.connect(p.GUI)\n",
    "for Robot, distance in zip([KukaRobot, ExtendKukaRobot, SnakeRobot, UR5Robot], [2, 4, 2, 1]):\n",
    "    plt.clf()\n",
    "    plt.close('all')\n",
    "    robot = Robot()\n",
    "    DynamicRobot = DynamicRobotFactory.create_dynamic_robot_class(Robot)\n",
    "    dynamic_robot = DynamicRobot(trajectory=WaypointLinearTrajectory(np.random.uniform(low=robot.limits_low, high=robot.limits_high, size=(10, robot.config_dim))))\n",
    "    create_traj(dynamic_robot, distance)\n",
    "p.disconnect()    "
   ]
  }
 ],
 "metadata": {
  "kernelspec": {
   "display_name": "pybullet",
   "language": "python",
   "name": "pybullet"
  },
  "language_info": {
   "codemirror_mode": {
    "name": "ipython",
    "version": 3
   },
   "file_extension": ".py",
   "mimetype": "text/x-python",
   "name": "python",
   "nbconvert_exporter": "python",
   "pygments_lexer": "ipython3",
   "version": "3.8.3"
  }
 },
 "nbformat": 4,
 "nbformat_minor": 4
}
